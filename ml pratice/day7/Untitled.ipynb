{
 "cells": [
  {
   "cell_type": "markdown",
   "metadata": {},
   "source": [
    "## machine learning\n",
    "    -data vs information\n",
    "    -data is large amount\n",
    "    - information is piece of data\n",
    "   ## types of machine learning\n",
    "   - supervised learning\n",
    "   - unsupervised learning\n",
    "   - reinforecement learning\n",
    "## supervised learning\n",
    "- raw data is existed\n",
    "- raw data may be labeled or unlabeled\n",
    "- here we know what is input and what is output\n",
    "## based on data we divide supervised learning\n",
    "- Classification\n",
    "     - when the data is labeled we can apply these techniques \n",
    "- Regression\n",
    "    - when the data is unlabeled we can apply these techniques\n",
    "    ## classification\n",
    "    - logistic\n",
    "    - decision tree\n",
    "    - random forest\n",
    "    - super vector model\n",
    "    ## regression\n",
    "    - linear regression\n",
    "    - polynomial regression\n",
    "    - ridge\n",
    "    - lasso\n",
    "    - logistic\n",
    "## unsupervised learning\n",
    "- there is data but we dont know what is input and output\n",
    "- for that it catergorize these data into clusters\n",
    "## we have two types\n",
    "- clustering\n",
    "- association\n",
    "## reinforcement(AI)\n",
    "- system can learn based on experience \n",
    "## procedure to apply models\n",
    "- load the data or dataset\n",
    "- findout features (x) and targets(y)\n",
    "- apply train and split for training testing\n",
    "- we have to check data is fit or not for a particular or specific model,\n",
    "- if data is not fit then u can apply fit_transform to fit data\n",
    "- we can apply our model for predicting\n",
    "- we can check accuracy rate(evaluate)\n",
    "- then we can deploy\n",
    "    "
   ]
  },
  {
   "cell_type": "markdown",
   "metadata": {},
   "source": [
    "## Regressions\n",
    "- it is statistical approach\n",
    "- using this we can make relationship between dependent varriables(X) with given independent variables(Y)\n",
    "- we can choose these models for unlabeled data(continious data)\n",
    "- we can use these models for developing application like trends and shopping malls (sales estimation)\n",
    "- cost evalution (monthly report,weekly report)\n",
    "- for finding weather report\n",
    "## linear regression\n",
    "- in linear regression there are two types \n",
    " ## simple linear regression\n",
    "     - in simple linear regression we take single feature as  input(x) to predict target (y) values\n",
    "## multilinear  regression\n",
    "    - here we will take two or more features (x) to predict target values i.e.,y"
   ]
  },
  {
   "cell_type": "code",
   "execution_count": 3,
   "metadata": {},
   "outputs": [],
   "source": [
    "import pandas as pd\n",
    "import numpy as np\n",
    "x=np.array([1,2,3,4,5])\n",
    "y=np.array([3,4,2,4,5])\n",
    "x_mean=np.mean(x)\n",
    "y_mean=np.mean(y)\n"
   ]
  },
  {
   "cell_type": "code",
   "execution_count": 5,
   "metadata": {},
   "outputs": [
    {
     "data": {
      "text/plain": [
       "0.4"
      ]
     },
     "execution_count": 5,
     "metadata": {},
     "output_type": "execute_result"
    }
   ],
   "source": [
    "nume=0\n",
    "denom=0\n",
    "for i in range(len(x)):\n",
    "    nume+=(x[i]-x_mean)*(y[i]-y_mean)\n",
    "    denom+=(x[i]-x_mean)**2\n",
    "m=nume/denom\n",
    "m"
   ]
  },
  {
   "cell_type": "code",
   "execution_count": 7,
   "metadata": {},
   "outputs": [
    {
     "data": {
      "text/plain": [
       "[2.8, 3.2, 3.6, 4.0, 4.4]"
      ]
     },
     "execution_count": 7,
     "metadata": {},
     "output_type": "execute_result"
    }
   ],
   "source": [
    "c=y_mean-m*x_mean\n",
    "y_predict=[]\n",
    "for i in range(len(x)):\n",
    "    y_predict.append(m*x[i]+c)\n",
    "y_predict"
   ]
  },
  {
   "cell_type": "code",
   "execution_count": 12,
   "metadata": {},
   "outputs": [
    {
     "data": {
      "image/png": "[encoded data removed]",
      "text/plain": [
       "<Figure size 432x288 with 1 Axes>"
      ]
     },
     "metadata": {
      "needs_background": "light"
     },
     "output_type": "display_data"
    }
   ],
   "source": [
    "import matplotlib.pyplot as plt\n",
    "plt.scatter(x,y,label=\"actual values\",color='red')\n",
    "plt.plot(x,y_predict,label=\"regression line\")\n",
    "plt.xlabel('dependent variables')\n",
    "plt.ylabel('independent variables')\n",
    "plt.legend()\n",
    "plt.show()"
   ]
  },
  {
   "cell_type": "code",
   "execution_count": 14,
   "metadata": {},
   "outputs": [
    {
     "data": {
      "text/plain": [
       "0.3076923076923078"
      ]
     },
     "execution_count": 14,
     "metadata": {},
     "output_type": "execute_result"
    }
   ],
   "source": [
    "# find r2 square\n",
    "# we are r2 score for checking error rate\n",
    "# range of error rate is 0 to 1 or 0% to 100%\n",
    "r2nume=0\n",
    "r2deno=0\n",
    "for i in range(len(x)):\n",
    "    r2nume+=(y_predict[i]-y_mean)**2\n",
    "    r2deno+=(y[i]-y_mean)**2\n",
    "r2=r2nume/r2deno\n",
    "r2"
   ]
  },
  {
   "cell_type": "code",
   "execution_count": 15,
   "metadata": {},
   "outputs": [
    {
     "data": {
      "text/plain": [
       "(array([1, 2, 3, 4, 5]), array([3, 4, 2, 4, 5]))"
      ]
     },
     "execution_count": 15,
     "metadata": {},
     "output_type": "execute_result"
    }
   ],
   "source": [
    "x,y"
   ]
  },
  {
   "cell_type": "code",
   "execution_count": 17,
   "metadata": {},
   "outputs": [
    {
     "data": {
      "text/plain": [
       "LinearRegression(copy_X=True, fit_intercept=True, n_jobs=None, normalize=False)"
      ]
     },
     "execution_count": 17,
     "metadata": {},
     "output_type": "execute_result"
    }
   ],
   "source": [
    "## implementing linear regression using sklearn\n",
    "from sklearn.linear_model import LinearRegression\n",
    "x=x.reshape(-1,1)\n",
    "y=y.reshape(-1,1)\n",
    "slr = LinearRegression()\n",
    "slr.fit(x,y)\n"
   ]
  },
  {
   "cell_type": "code",
   "execution_count": 18,
   "metadata": {},
   "outputs": [
    {
     "data": {
      "text/plain": [
       "2.4"
      ]
     },
     "execution_count": 18,
     "metadata": {},
     "output_type": "execute_result"
    }
   ],
   "source": [
    "slr.intercept_[0]"
   ]
  },
  {
   "cell_type": "code",
   "execution_count": 20,
   "metadata": {},
   "outputs": [
    {
     "data": {
      "text/plain": [
       "array([[2.8],\n",
       "       [3.2],\n",
       "       [3.6],\n",
       "       [4. ],\n",
       "       [4.4]])"
      ]
     },
     "execution_count": 20,
     "metadata": {},
     "output_type": "execute_result"
    }
   ],
   "source": [
    "pre = slr.predict(x)\n",
    "pre"
   ]
  },
  {
   "cell_type": "code",
   "execution_count": 21,
   "metadata": {},
   "outputs": [
    {
     "data": {
      "image/png": "[encoded data removed]",
      "text/plain": [
       "<Figure size 432x288 with 1 Axes>"
      ]
     },
     "metadata": {
      "needs_background": "light"
     },
     "output_type": "display_data"
    }
   ],
   "source": [
    "plt.scatter(x,y,label=\"actual values\",color='b')\n",
    "plt.plot(x,pre,label=\"regression line\",color='r')\n",
    "plt.xlabel('dependent variables')\n",
    "plt.ylabel('independent variables')\n",
    "plt.legend()\n",
    "plt.show()"
   ]
  },
  {
   "cell_type": "code",
   "execution_count": 23,
   "metadata": {},
   "outputs": [
    {
     "data": {
      "text/plain": [
       "array([[4.8]])"
      ]
     },
     "execution_count": 23,
     "metadata": {},
     "output_type": "execute_result"
    }
   ],
   "source": [
    "slr.predict([[6]])"
   ]
  },
  {
   "cell_type": "code",
   "execution_count": 25,
   "metadata": {},
   "outputs": [
    {
     "data": {
      "text/plain": [
       "0.3076923076923078"
      ]
     },
     "execution_count": 25,
     "metadata": {},
     "output_type": "execute_result"
    }
   ],
   "source": [
    "slr.score(x,y)"
   ]
  },
  {
   "cell_type": "code",
   "execution_count": null,
   "metadata": {},
   "outputs": [],
   "source": []
  }
 ],
 "metadata": {
  "kernelspec": {
   "display_name": "Python 3 (ipykernel)",
   "language": "python",
   "name": "python3"
  },
  "language_info": {
   "codemirror_mode": {
    "name": "ipython",
    "version": 3
   },
   "file_extension": ".py",
   "mimetype": "text/x-python",
   "name": "python",
   "nbconvert_exporter": "python",
   "pygments_lexer": "ipython3",
   "version": "3.9.13"
  }
 },
 "nbformat": 4,
 "nbformat_minor": 2
}
