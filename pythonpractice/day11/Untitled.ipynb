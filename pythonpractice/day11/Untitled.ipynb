{
 "cells": [
  {
   "cell_type": "code",
   "execution_count": 1,
   "metadata": {},
   "outputs": [
    {
     "name": "stdout",
     "output_type": "stream",
     "text": [
      "venkat\n",
      "7989921538\n"
     ]
    }
   ],
   "source": [
    "import re\n",
    "path=\"contact.txt\"\n",
    "with open(path,'a') as fh:\n",
    "    name=input()\n",
    "    mb=input()\n",
    "    if re.search('^[a-zA-Z]{3,30}$',name):\n",
    "        fh.write(name+\" \")\n",
    "    else:\n",
    "        print(\"invalid name\")\n",
    "   \n",
    "        fh.write(mb+\"\\n\")\n",
    "    else:\n",
    "        print(\"invalid mobile number\")"
   ]
  },
  {
   "cell_type": "code",
   "execution_count": 5,
   "metadata": {},
   "outputs": [
    {
     "name": "stdout",
     "output_type": "stream",
     "text": [
      "gokul1`133\n",
      "55454512548545\n",
      "enter valid mobile number\n"
     ]
    }
   ],
   "source": [
    "import re\n",
    "def isVaildnumber(mb):\n",
    "    if re.search('^[6-9][0-9]{9}',mb):\n",
    "            return True\n",
    "    return False\n",
    "def isvalidname(name):\n",
    "    if re.search('^[a-zA-Z]{3,30}$',name):\n",
    "        return True\n",
    "    return False\n",
    "def CreateContact(name,mb):\n",
    "    if isVaildnumber(mb):\n",
    "        if isvalidname(name):\n",
    "            fh.write(name+\"\\t\"+mb+\"\\n\")\n",
    "            print(\"contact is created:\")\n",
    "        else:\n",
    "            print(\"enter valid name\")\n",
    "    else:\n",
    "        print(\"enter valid mobile number\")\n",
    "name=input()\n",
    "mb=input()\n",
    "CreateContact(name,mb)\n",
    "        \n",
    "    \n",
    "    \n",
    "        "
   ]
  },
  {
   "cell_type": "code",
   "execution_count": 6,
   "metadata": {},
   "outputs": [
    {
     "name": "stdout",
     "output_type": "stream",
     "text": [
      "gokul 8919738650\n",
      "ravi 8332854679\n",
      "venkat 7989921538\n",
      "\n"
     ]
    }
   ],
   "source": [
    "def display():\n",
    "    with open(\"contact.txt\") as fh:\n",
    "        print(fh.read())\n",
    "display()"
   ]
  },
  {
   "cell_type": "code",
   "execution_count": 9,
   "metadata": {},
   "outputs": [
    {
     "name": "stdout",
     "output_type": "stream",
     "text": [
      "ravi\n",
      "8332854679\n"
     ]
    }
   ],
   "source": [
    "n=input() \n",
    "with open(\"contact.txt\") as fh:\n",
    "    for line in fh:\n",
    "        line=line.split()\n",
    "        if line[0]==n:\n",
    "            print(line[1])\n",
    "        "
   ]
  },
  {
   "cell_type": "code",
   "execution_count": 19,
   "metadata": {},
   "outputs": [],
   "source": [
    "import random \n",
    "def genratemarks():\n",
    "        for i in range(0,60):\n",
    "            with open('marks.txt','a') as fh:\n",
    "                r=random.randint(0,100)\n",
    "                fh.write(str(r)+\"\\n\")\n",
    "genratemarks()\n",
    "        "
   ]
  },
  {
   "cell_type": "code",
   "execution_count": 20,
   "metadata": {},
   "outputs": [
    {
     "name": "stdout",
     "output_type": "stream",
     "text": [
      "85\n",
      "6\n",
      "7\n",
      "0\n",
      "4\n",
      "33\n",
      "48\n",
      "94\n",
      "34\n",
      "71\n",
      "53\n",
      "7\n",
      "12\n",
      "44\n",
      "88\n",
      "82\n",
      "22\n",
      "29\n",
      "21\n",
      "87\n",
      "29\n",
      "7\n",
      "52\n",
      "20\n",
      "48\n",
      "63\n",
      "75\n",
      "4\n",
      "39\n",
      "44\n",
      "33\n",
      "92\n",
      "45\n",
      "81\n",
      "39\n",
      "0\n",
      "67\n",
      "58\n",
      "26\n",
      "73\n",
      "13\n",
      "25\n",
      "22\n",
      "73\n",
      "9\n",
      "96\n",
      "17\n",
      "58\n",
      "70\n",
      "24\n",
      "95\n",
      "94\n",
      "16\n",
      "8\n",
      "94\n",
      "25\n",
      "27\n",
      "47\n",
      "95\n",
      "4\n",
      "\n"
     ]
    }
   ],
   "source": [
    "def Displaymarks(filepath):\n",
    "    with open(filepath) as fh:\n",
    "        print(fh.read())\n",
    "path=\"marks.txt\"\n",
    "Displaymarks(path)"
   ]
  },
  {
   "cell_type": "code",
   "execution_count": 22,
   "metadata": {},
   "outputs": [
    {
     "name": "stdout",
     "output_type": "stream",
     "text": [
      "failed count is 29\n"
     ]
    }
   ],
   "source": [
    "def failedmarks(filepath):\n",
    "    c=0\n",
    "    with open(filepath,'r') as fh:\n",
    "        for line in fh:\n",
    "            if(int(line)<35):\n",
    "                c+=1\n",
    "    return c\n",
    "path=\"marks.txt\"\n",
    "r=failedmarks(path)\n",
    "print(\"failed count is %d\"%(r))\n",
    "            "
   ]
  },
  {
   "cell_type": "code",
   "execution_count": 23,
   "metadata": {},
   "outputs": [
    {
     "name": "stdout",
     "output_type": "stream",
     "text": [
      "passed count is 31\n"
     ]
    }
   ],
   "source": [
    "def passedmarks(filepath):\n",
    "    c=0\n",
    "    with open(filepath,'r') as fh:\n",
    "        for line in fh:\n",
    "            if(int(line)>=35):\n",
    "                c+=1\n",
    "    return c\n",
    "path=\"marks.txt\"\n",
    "r=passedmarks(path)\n",
    "print(\"passed count is %d\"%(r))"
   ]
  },
  {
   "cell_type": "code",
   "execution_count": 24,
   "metadata": {},
   "outputs": [
    {
     "name": "stdout",
     "output_type": "stream",
     "text": [
      "above 80 percent count is 12\n"
     ]
    }
   ],
   "source": [
    "def above80marks(filepath):\n",
    "    c=0\n",
    "    with open(filepath,'r') as fh:\n",
    "        for line in fh:\n",
    "            if(int(line)>=80):\n",
    "                c+=1\n",
    "    return c\n",
    "path=\"marks.txt\"\n",
    "r=above80marks(path)\n",
    "print(\"above 80 percent count is %d\"%(r))"
   ]
  },
  {
   "cell_type": "code",
   "execution_count": null,
   "metadata": {},
   "outputs": [],
   "source": []
  }
 ],
 "metadata": {
  "kernelspec": {
   "display_name": "Python 3",
   "language": "python",
   "name": "python3"
  },
  "language_info": {
   "codemirror_mode": {
    "name": "ipython",
    "version": 3
   },
   "file_extension": ".py",
   "mimetype": "text/x-python",
   "name": "python",
   "nbconvert_exporter": "python",
   "pygments_lexer": "ipython3",
   "version": "3.7.3"
  }
 },
 "nbformat": 4,
 "nbformat_minor": 2
}
