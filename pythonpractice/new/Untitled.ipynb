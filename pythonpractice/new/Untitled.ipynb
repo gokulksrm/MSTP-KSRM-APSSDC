{
 "cells": [
  {
   "cell_type": "code",
   "execution_count": 2,
   "metadata": {},
   "outputs": [
    {
     "name": "stdout",
     "output_type": "stream",
     "text": [
      "enter the namegokul\n",
      "enter the rollno169y1a05c5\n",
      "enter the mailidnithishreddy76@gmail.com\n",
      "enter the mobile number8919738650\n",
      "enter theinternal marks25\n",
      "enter the total internal marks40\n",
      "enter the external marks50\n",
      "total the external marks60\n",
      "record inserted\n"
     ]
    }
   ],
   "source": [
    "def create_record(name,rollno,email,mobnum,internal_marks,timarks,external_marks,temarks):\n",
    "   # print(name,rollno,email,mobnum,internal_marks,timarks,external_marks,temarks)\n",
    "    if re.search([a-zA-Z]{3-10},name) \n",
    "    path=\"files/studentmarks.txt\"\n",
    "    with open(path,'a') as fh:\n",
    "        txt=name+\"\\t\"+rollno+\"\\t\"+email+\"\\t\"+mobnum+\"\\t\"+internal_marks+\"\\t\"+timarks+\"\\t\"+external_marks+\"\\t\"+temarks\n",
    "        fh.write(txt)\n",
    "    print(\"record inserted\")\n",
    "    \n",
    "    \n",
    "    \n",
    "name=input(\"enter the name\")\n",
    "rollno=input(\"enter the rollno\")\n",
    "email=input(\"enter the mailid\")\n",
    "mobnum=input(\"enter the mobile number\")\n",
    "internal_marks=input(\"enter theinternal marks\")\n",
    "timarks=input(\"enter the total internal marks\")\n",
    "external_marks=input(\"enter the external marks\")\n",
    "temarks=input(\"total the external marks\")\n",
    "create_record(name,rollno,email,mobnum,internal_marks,timarks,external_marks,temarks)\n"
   ]
  },
  {
   "cell_type": "code",
   "execution_count": null,
   "metadata": {},
   "outputs": [],
   "source": []
  }
 ],
 "metadata": {
  "kernelspec": {
   "display_name": "Python 3",
   "language": "python",
   "name": "python3"
  },
  "language_info": {
   "codemirror_mode": {
    "name": "ipython",
    "version": 3
   },
   "file_extension": ".py",
   "mimetype": "text/x-python",
   "name": "python",
   "nbconvert_exporter": "python",
   "pygments_lexer": "ipython3",
   "version": "3.7.4"
  }
 },
 "nbformat": 4,
 "nbformat_minor": 2
}
