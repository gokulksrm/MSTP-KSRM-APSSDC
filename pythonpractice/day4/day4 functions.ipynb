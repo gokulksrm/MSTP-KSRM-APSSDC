{
 "cells": [
  {
   "cell_type": "markdown",
   "metadata": {},
   "source": [
    "## functions\n"
   ]
  },
  {
   "cell_type": "code",
   "execution_count": 4,
   "metadata": {},
   "outputs": [
    {
     "name": "stdout",
     "output_type": "stream",
     "text": [
      "hello\n",
      "hai\n",
      "over\n"
     ]
    }
   ],
   "source": [
    "def gokul():\n",
    "    print(\"hello\")\n",
    "    print(\"hai\")\n",
    "gokul()\n",
    "print(\"over\")\n"
   ]
  },
  {
   "cell_type": "markdown",
   "metadata": {},
   "source": [
    "## without passing arguments and without return"
   ]
  },
  {
   "cell_type": "code",
   "execution_count": 5,
   "metadata": {},
   "outputs": [
    {
     "name": "stdout",
     "output_type": "stream",
     "text": [
      "without passing arguments and without return\n"
     ]
    }
   ],
   "source": [
    "def show():\n",
    "    print(\"without passing arguments and without return\")\n",
    "show()\n"
   ]
  },
  {
   "cell_type": "code",
   "execution_count": 10,
   "metadata": {},
   "outputs": [
    {
     "name": "stdout",
     "output_type": "stream",
     "text": [
      " without passing arguments and return result\n",
      " without passing arguments and return result\n"
     ]
    }
   ],
   "source": [
    "# without passing arguments and return result\n",
    "def display():\n",
    "    return \" without passing arguments and return result\"\n",
    "print(display())\n",
    "re=display()\n",
    "print(re)\n",
    "    "
   ]
  },
  {
   "cell_type": "code",
   "execution_count": 15,
   "metadata": {},
   "outputs": [
    {
     "name": "stdout",
     "output_type": "stream",
     "text": [
      "5\n",
      "6\n",
      "addition of two numbers are  11\n"
     ]
    }
   ],
   "source": [
    "# passing arguments and without return result\n",
    "def add(num1,num2):\n",
    "    print(\"addition of two numbers are \",num1+num2)\n",
    "a=int(input())\n",
    "b=int(input())\n",
    "add(a,b)\n",
    "    "
   ]
  },
  {
   "cell_type": "code",
   "execution_count": 19,
   "metadata": {},
   "outputs": [
    {
     "name": "stdout",
     "output_type": "stream",
     "text": [
      "enter the a value5\n",
      "enter the b value4\n",
      "multiplication of two numbers 20\n"
     ]
    }
   ],
   "source": [
    "# passing arguments and return the results\n",
    "def mul(n1,n2):\n",
    "    return n1*n2\n",
    "a=int(input(\"enter the a value\"))\n",
    "b=int(input(\"enter the b value\"))\n",
    "print(\"multiplication of two numbers\",mul(a,b))"
   ]
  },
  {
   "cell_type": "code",
   "execution_count": 20,
   "metadata": {},
   "outputs": [
    {
     "name": "stdout",
     "output_type": "stream",
     "text": [
      "enter the a value2\n",
      "enter the b value2\n",
      "addition of two numbers 4\n",
      "subtraction of two numbers 0\n",
      "multiplication of two numbers 4\n",
      "division of two numbers 1.0\n",
      "power of two numbers 4\n",
      "floor division of two numbers 1\n"
     ]
    }
   ],
   "source": [
    "a=int(input(\"enter the a value\"))\n",
    "b=int(input(\"enter the b value\"))\n",
    "def add(a1,b1):\n",
    "    return a1+b1\n",
    "def sub(a1,b1):\n",
    "    return a1-b1\n",
    "def mul(a1,b1):\n",
    "    return a1*b1\n",
    "def div(a1,b1):\n",
    "    return a1/b1\n",
    "def expo(a1,b1):\n",
    "    return a**b\n",
    "def flo(a1,b1):\n",
    "    return a1//b1\n",
    "print(\"addition of two numbers\",add(a,b))\n",
    "print(\"subtraction of two numbers\",sub(a,b))\n",
    "print(\"multiplication of two numbers\",mul(a,b))\n",
    "print(\"division of two numbers\",div(a,b))\n",
    "print(\"power of two numbers\",expo(a,b))\n",
    "print(\"floor division of two numbers\",flo(a,b))"
   ]
  },
  {
   "cell_type": "markdown",
   "metadata": {},
   "source": [
    "## in python there are more than four function in python\n",
    " - default arguments\n",
    "- requried arguments\n",
    " - keyword arguments\n",
    " - variable length arguments\n"
   ]
  },
  {
   "cell_type": "code",
   "execution_count": 22,
   "metadata": {},
   "outputs": [
    {
     "name": "stdout",
     "output_type": "stream",
     "text": [
      "hello hai,gokul\n"
     ]
    }
   ],
   "source": [
    "# example for Default arguments\n",
    "print(\"hello\",end=\" \")\n",
    "print(\"hai\",end=\",\")\n",
    "print(\"gokul\")"
   ]
  },
  {
   "cell_type": "code",
   "execution_count": 28,
   "metadata": {},
   "outputs": [
    {
     "name": "stdout",
     "output_type": "stream",
     "text": [
      "6 24 22 8\n"
     ]
    }
   ],
   "source": [
    "# default function\n",
    "def add(n1=0,n2=0,n3=0,n4=0):\n",
    "    return n1+n2+n3+n4\n",
    "print(add(6),end=\" \")\n",
    "print(add(5,5,5,9),add(6,7,9),add(8))"
   ]
  },
  {
   "cell_type": "code",
   "execution_count": 31,
   "metadata": {},
   "outputs": [
    {
     "data": {
      "text/plain": [
       "0"
      ]
     },
     "execution_count": 31,
     "metadata": {},
     "output_type": "execute_result"
    }
   ],
   "source": [
    "# Requried arguments\n",
    "range(10)\n"
   ]
  },
  {
   "cell_type": "code",
   "execution_count": 34,
   "metadata": {},
   "outputs": [
    {
     "ename": "TypeError",
     "evalue": "mul() missing 1 required positional argument: 'b'",
     "output_type": "error",
     "traceback": [
      "\u001b[1;31m---------------------------------------------------------------------------\u001b[0m",
      "\u001b[1;31mTypeError\u001b[0m                                 Traceback (most recent call last)",
      "\u001b[1;32m<ipython-input-34-df2877111385>\u001b[0m in \u001b[0;36m<module>\u001b[1;34m\u001b[0m\n\u001b[0;32m      2\u001b[0m \u001b[1;32mdef\u001b[0m \u001b[0mmul\u001b[0m\u001b[1;33m(\u001b[0m\u001b[0ma\u001b[0m\u001b[1;33m,\u001b[0m\u001b[0mb\u001b[0m\u001b[1;33m)\u001b[0m\u001b[1;33m:\u001b[0m\u001b[1;33m\u001b[0m\u001b[1;33m\u001b[0m\u001b[0m\n\u001b[0;32m      3\u001b[0m     \u001b[1;32mreturn\u001b[0m \u001b[0ma\u001b[0m\u001b[1;33m*\u001b[0m\u001b[0mb\u001b[0m\u001b[1;33m\u001b[0m\u001b[1;33m\u001b[0m\u001b[0m\n\u001b[1;32m----> 4\u001b[1;33m \u001b[0mprint\u001b[0m\u001b[1;33m(\u001b[0m\u001b[0mmul\u001b[0m\u001b[1;33m(\u001b[0m\u001b[1;36m4\u001b[0m\u001b[1;33m)\u001b[0m\u001b[1;33m)\u001b[0m\u001b[1;33m\u001b[0m\u001b[1;33m\u001b[0m\u001b[0m\n\u001b[0m",
      "\u001b[1;31mTypeError\u001b[0m: mul() missing 1 required positional argument: 'b'"
     ]
    }
   ],
   "source": [
    "# requried argument function\n",
    "def mul(a,b):\n",
    "    return a*b\n",
    "print(mul(4))"
   ]
  },
  {
   "cell_type": "code",
   "execution_count": 40,
   "metadata": {},
   "outputs": [
    {
     "name": "stdout",
     "output_type": "stream",
     "text": [
      "4\n"
     ]
    }
   ],
   "source": [
    "# example for keyword arguments is print(end=\",\")\n",
    "def power(base,exp):\n",
    "    return base**exp\n",
    "print(power(exp=2,base=2))\n",
    "    "
   ]
  },
  {
   "cell_type": "code",
   "execution_count": 45,
   "metadata": {},
   "outputs": [
    {
     "name": "stdout",
     "output_type": "stream",
     "text": [
      "6\n",
      "<class 'tuple'>\n",
      "131\n"
     ]
    }
   ],
   "source": [
    "# variable length arguments\n",
    "def sm(*vas):\n",
    "    print(len(vas))\n",
    "    print(type(vas))\n",
    "    print(sum(vas))\n",
    "sm(1,2,3,4,56,65)"
   ]
  },
  {
   "cell_type": "code",
   "execution_count": 46,
   "metadata": {},
   "outputs": [
    {
     "name": "stdout",
     "output_type": "stream",
     "text": [
      "6\n",
      "<class 'list'>\n",
      "131\n"
     ]
    }
   ],
   "source": [
    "def sm(vas):\n",
    "    print(len(vas))\n",
    "    print(type(vas))\n",
    "    print(sum(vas))\n",
    "sm([1,2,3,4,56,65])"
   ]
  },
  {
   "cell_type": "markdown",
   "metadata": {},
   "source": [
    "## Conditional control statements:\n",
    "- it controls flow of program execution based on condition.\n",
    "- 3types\n",
    "- if\n",
    "- if else\n",
    "- if else ladder\n",
    "-  nested if else"
   ]
  },
  {
   "cell_type": "code",
   "execution_count": 47,
   "metadata": {},
   "outputs": [
    {
     "name": "stdout",
     "output_type": "stream",
     "text": [
      "true\n"
     ]
    }
   ],
   "source": [
    "if(4<5):\n",
    "    print(\"true\")\n",
    "else:\n",
    "    print(\"false\")"
   ]
  },
  {
   "cell_type": "code",
   "execution_count": 48,
   "metadata": {},
   "outputs": [
    {
     "name": "stdout",
     "output_type": "stream",
     "text": [
      "you r in if block\n"
     ]
    }
   ],
   "source": [
    "if(5<6):\n",
    "    print(\"you r in if block\")\n",
    "elif(6<7):\n",
    "    print(\"ur in elif block\")\n",
    "else:\n",
    "    print(\"ur in else block\")"
   ]
  },
  {
   "cell_type": "code",
   "execution_count": null,
   "metadata": {},
   "outputs": [],
   "source": []
  }
 ],
 "metadata": {
  "kernelspec": {
   "display_name": "Python 3",
   "language": "python",
   "name": "python3"
  },
  "language_info": {
   "codemirror_mode": {
    "name": "ipython",
    "version": 3
   },
   "file_extension": ".py",
   "mimetype": "text/x-python",
   "name": "python",
   "nbconvert_exporter": "python",
   "pygments_lexer": "ipython3",
   "version": "3.7.3"
  }
 },
 "nbformat": 4,
 "nbformat_minor": 2
}
