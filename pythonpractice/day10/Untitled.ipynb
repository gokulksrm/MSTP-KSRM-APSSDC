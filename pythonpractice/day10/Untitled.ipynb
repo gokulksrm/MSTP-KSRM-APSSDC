{
 "cells": [
  {
   "cell_type": "code",
   "execution_count": 6,
   "metadata": {},
   "outputs": [
    {
     "data": {
      "text/plain": [
       "1"
      ]
     },
     "execution_count": 6,
     "metadata": {},
     "output_type": "execute_result"
    }
   ],
   "source": [
    "x=\"ghnababa\"\n",
    "x.count(\"aba\")"
   ]
  },
  {
   "cell_type": "code",
   "execution_count": 4,
   "metadata": {},
   "outputs": [
    {
     "name": "stdout",
     "output_type": "stream",
     "text": [
      "ghnAbaaba\n",
      "aba\n"
     ]
    },
    {
     "data": {
      "text/plain": [
       "1"
      ]
     },
     "execution_count": 4,
     "metadata": {},
     "output_type": "execute_result"
    }
   ],
   "source": [
    "n=input()\n",
    "s=input()\n",
    "l=len(s)\n",
    "c=0\n",
    "for i in range(len(n)):\n",
    "    if n[i:i+l]==s:\n",
    "        c+=1\n",
    "c"
   ]
  },
  {
   "cell_type": "code",
   "execution_count": 8,
   "metadata": {},
   "outputs": [
    {
     "name": "stdout",
     "output_type": "stream",
     "text": [
      "2\n",
      "-5 9 8 -10 -78 -100 10\n",
      "166\n",
      "-89 9 81 78 -99 -1 -989\n",
      "1010\n"
     ]
    }
   ],
   "source": [
    "n=int(input())\n",
    "p=[]\n",
    "ne=[]\n",
    "for i in range(n):\n",
    "    s=input().split()\n",
    "    ne.clear()\n",
    "    p.clear()\n",
    "    for j in range(len(s)):\n",
    "        h=int(s[j])\n",
    "        if h>0:\n",
    "            ne.append(-1*h)\n",
    "        else:\n",
    "            p.append(h*-1)\n",
    "    a=sum(ne)\n",
    "    b=sum(p)\n",
    "    print(a+b)\n",
    "        "
   ]
  },
  {
   "cell_type": "code",
   "execution_count": 5,
   "metadata": {},
   "outputs": [
    {
     "name": "stdout",
     "output_type": "stream",
     "text": [
      "2\n",
      "-5 9 8 -10 -78 -100 10\n",
      "166\n",
      "-89 9 81 78 -99 -1 -989\n",
      "1010\n"
     ]
    }
   ],
   "source": [
    "n=int(input())\n",
    "for i in range(n):\n",
    "    s=input().split()\n",
    "    sm=0\n",
    "    for j in s:\n",
    "        sm+=int(j)*-1\n",
    "    print(sm)\n",
    "        "
   ]
  },
  {
   "cell_type": "markdown",
   "metadata": {},
   "source": [
    "## files:\n",
    "- collection of data\n",
    "- file types:\n",
    "    - .CSV\n",
    "    - .TXT\n",
    "    - .PDF\n",
    "    - .EXE\n",
    "    - .HTML\n",
    "##  procedures to work on files:\n",
    "    - need to open a file\n",
    "    - based on requirement we perform related action\n",
    "    - close file"
   ]
  },
  {
   "cell_type": "code",
   "execution_count": 16,
   "metadata": {},
   "outputs": [
    {
     "name": "stdout",
     "output_type": "stream",
     "text": [
      "hi,\n",
      "hello,\n",
      "welcome to python lab\n",
      "\n"
     ]
    }
   ],
   "source": [
    "fh = open('mydata.txt')\n",
    "print(fh.read())\n",
    "fh.close()"
   ]
  },
  {
   "cell_type": "code",
   "execution_count": 17,
   "metadata": {},
   "outputs": [
    {
     "name": "stdout",
     "output_type": "stream",
     "text": [
      "hi,\n",
      "hello,\n",
      "welcome to python lab\n"
     ]
    }
   ],
   "source": [
    "fh = open('mydata.txt')\n",
    "for line in fh:\n",
    "    print(line.rstrip())\n",
    "fh.close()"
   ]
  },
  {
   "cell_type": "code",
   "execution_count": 23,
   "metadata": {},
   "outputs": [],
   "source": [
    "fh = open('mydata1.txt','w')\n",
    "txt=\"iam from kadapa\"\n",
    "fh.write(txt)\n",
    "fh.close()"
   ]
  },
  {
   "cell_type": "code",
   "execution_count": 25,
   "metadata": {},
   "outputs": [],
   "source": [
    "fh = open('mydata1.txt','a')\n",
    "txt=\"iam from chittoor\"\n",
    "fh.write(\"\\n\"+txt)\n",
    "fh.close()"
   ]
  },
  {
   "cell_type": "code",
   "execution_count": 30,
   "metadata": {},
   "outputs": [
    {
     "name": "stdout",
     "output_type": "stream",
     "text": [
      "hai\n",
      "hello \n",
      "how are you gokul\n",
      "\n"
     ]
    }
   ],
   "source": [
    "path ='../textfiles/sample.txt'\n",
    "with open(path) as fh:\n",
    "    print(fh.read())"
   ]
  },
  {
   "cell_type": "code",
   "execution_count": 31,
   "metadata": {},
   "outputs": [
    {
     "name": "stdout",
     "output_type": "stream",
     "text": [
      "hai\n",
      "hello\n",
      "how are you gokul\n"
     ]
    }
   ],
   "source": [
    "path ='../textfiles/sample.txt'\n",
    "with open(path) as fh:\n",
    "    for line in fh:\n",
    "        print(line.rstrip())"
   ]
  },
  {
   "cell_type": "code",
   "execution_count": 1,
   "metadata": {},
   "outputs": [
    {
     "name": "stdout",
     "output_type": "stream",
     "text": [
      "hai gokul\n"
     ]
    }
   ],
   "source": [
    "path='../textfiles/sample1.txt'\n",
    "with open(path,'w') as fh:\n",
    "    n=input()\n",
    "    fh.write(n)"
   ]
  },
  {
   "cell_type": "code",
   "execution_count": 2,
   "metadata": {},
   "outputs": [
    {
     "data": {
      "text/plain": [
       "['test2', 'test3', 'test4']"
      ]
     },
     "execution_count": 2,
     "metadata": {},
     "output_type": "execute_result"
    }
   ],
   "source": [
    "li=['test4','test2','test3']\n",
    "li.sort()\n",
    "li"
   ]
  },
  {
   "cell_type": "code",
   "execution_count": null,
   "metadata": {},
   "outputs": [],
   "source": []
  }
 ],
 "metadata": {
  "kernelspec": {
   "display_name": "Python 3",
   "language": "python",
   "name": "python3"
  },
  "language_info": {
   "codemirror_mode": {
    "name": "ipython",
    "version": 3
   },
   "file_extension": ".py",
   "mimetype": "text/x-python",
   "name": "python",
   "nbconvert_exporter": "python",
   "pygments_lexer": "ipython3",
   "version": "3.7.3"
  }
 },
 "nbformat": 4,
 "nbformat_minor": 2
}
