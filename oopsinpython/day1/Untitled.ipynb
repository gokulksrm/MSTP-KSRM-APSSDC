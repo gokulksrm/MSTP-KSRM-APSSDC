{
 "cells": [
  {
   "cell_type": "code",
   "execution_count": 1,
   "metadata": {},
   "outputs": [
    {
     "name": "stdout",
     "output_type": "stream",
     "text": [
      "5\n",
      "5\n",
      "10\n",
      "0\n",
      "25\n",
      "1.0\n",
      "1\n",
      "3125\n"
     ]
    }
   ],
   "source": [
    "class calci:\n",
    "    def add(n1,n2):\n",
    "        return n1+n2\n",
    "    def sub(n1,n2):\n",
    "        return n1-n2\n",
    "    def mul(n1,n2):\n",
    "        return n1*n2\n",
    "    def div(n1,n2):\n",
    "        return n1/n2\n",
    "    def fdiv(n1,n2):\n",
    "        return n1//n2\n",
    "    def expo(n1,n2):\n",
    "        return n1**n2\n",
    "n1=int(input())\n",
    "n2=int(input())\n",
    "o = calci\n",
    "print(o.add(n1,n2))\n",
    "print(o.sub(n1,n2))\n",
    "print(o.mul(n1,n2))\n",
    "print(o.div(n1,n2))\n",
    "print(o.fdiv(n1,n2))\n",
    "print(o.expo(n1,n2))"
   ]
  },
  {
   "cell_type": "code",
   "execution_count": 4,
   "metadata": {},
   "outputs": [
    {
     "data": {
      "text/plain": [
       "' Constructor\\n - calling function without using object\\n    - types of constructors\\n        - default constructors\\n        - parameterized constructors'"
      ]
     },
     "execution_count": 4,
     "metadata": {},
     "output_type": "execute_result"
    }
   ],
   "source": [
    "\"\"\" Constructor\n",
    " - calling function without using object\n",
    "    - types of constructors\n",
    "        - default constructors\n",
    "        - parameterized constructors\"\"\"\n",
    "    "
   ]
  },
  {
   "cell_type": "code",
   "execution_count": 6,
   "metadata": {},
   "outputs": [
    {
     "name": "stdout",
     "output_type": "stream",
     "text": [
      "5\n",
      "5\n",
      "5 5\n"
     ]
    }
   ],
   "source": [
    "class calci1:\n",
    "    def __init__(self,a,b):\n",
    "        self.num1=a\n",
    "        self.num2=b\n",
    "        print(self.num1,self.num2)\n",
    "n1=int(input())\n",
    "n2=int(input())\n",
    "o = calci1(n1,n2)"
   ]
  },
  {
   "cell_type": "code",
   "execution_count": 15,
   "metadata": {},
   "outputs": [
    {
     "name": "stdout",
     "output_type": "stream",
     "text": [
      "5\n",
      "6\n",
      "addition of two numbers 11\n",
      "subtraction of two numbers -1\n",
      "multiplication of two numbers 30\n",
      "division of two numbers 0.8333333333333334\n",
      "power of two numbers 15625\n",
      "floor division of two numbers 0\n"
     ]
    }
   ],
   "source": [
    "class calci1:\n",
    "    def __init__(self,a,b):\n",
    "        self.num1=a\n",
    "        self.num2=b\n",
    "    def __add__(self):\n",
    "        return self.num1+self.num2\n",
    "    def __sub__(self):\n",
    "        return self.num1-self.num2\n",
    "    def __mul__(self):\n",
    "        return self.num1*self.num2\n",
    "    def __div__(self):\n",
    "        return self.num1/self.num2\n",
    "    def __expo__(self):\n",
    "        return self.num1**self.num2\n",
    "    def __fdiv__(self):\n",
    "        return self.num1//self.num2\n",
    "        \n",
    "    \n",
    "n1=int(input())\n",
    "n2=int(input())\n",
    "o = calci1(n1,n2)\n",
    "print(\"addition of two numbers\",o.__add__())\n",
    "print(\"subtraction of two numbers\",o.__sub__())\n",
    "print(\"multiplication of two numbers\",o.__mul__())\n",
    "print(\"division of two numbers\",o.__div__())\n",
    "print(\"power of two numbers\",o.__expo__())\n",
    "print(\"floor division of two numbers\",o.__fdiv__())"
   ]
  },
  {
   "cell_type": "code",
   "execution_count": 16,
   "metadata": {},
   "outputs": [
    {
     "data": {
      "text/plain": [
       "10"
      ]
     },
     "execution_count": 16,
     "metadata": {},
     "output_type": "execute_result"
    }
   ],
   "source": [
    "int.__add__(5,5)"
   ]
  },
  {
   "cell_type": "code",
   "execution_count": 17,
   "metadata": {},
   "outputs": [
    {
     "data": {
      "text/plain": [
       "5"
      ]
     },
     "execution_count": 17,
     "metadata": {},
     "output_type": "execute_result"
    }
   ],
   "source": [
    "str.__len__(\"gokul\")"
   ]
  },
  {
   "cell_type": "code",
   "execution_count": null,
   "metadata": {},
   "outputs": [],
   "source": []
  }
 ],
 "metadata": {
  "kernelspec": {
   "display_name": "Python 3",
   "language": "python",
   "name": "python3"
  },
  "language_info": {
   "codemirror_mode": {
    "name": "ipython",
    "version": 3
   },
   "file_extension": ".py",
   "mimetype": "text/x-python",
   "name": "python",
   "nbconvert_exporter": "python",
   "pygments_lexer": "ipython3",
   "version": "3.7.4"
  }
 },
 "nbformat": 4,
 "nbformat_minor": 2
}
